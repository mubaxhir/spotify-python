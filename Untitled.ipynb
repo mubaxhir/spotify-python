{
 "cells": [
  {
   "cell_type": "code",
   "execution_count": 1,
   "metadata": {},
   "outputs": [],
   "source": [
    "data = {'Danceability': [0.78, 0.548, 0.651, 0.758, 0.317, 0.386, 0.665, 0.762, 0.738, 0.599, 0.672, 0.625, 0.829, 0.666, 0.476, 0.548, 0.469, 0.755, 0.724, 0.499, 0.442, 0.614, 0.695, 0.632], 'Energy': [0.68, 0.351, 0.538, 0.588, 0.611, 0.558, 0.539, 0.621, 0.824, 0.571, 0.717, 0.536, 0.539, 0.603, 0.701, 0.653, 0.489, 0.522, 0.772, 0.8, 0.737, 0.66, 0.762, 0.732], 'Instrumentalness': [1.2e-05, 0, 1.42e-06, 9.3e-05, 0, 0, 5.85e-06, 0, 0, 0, 2.4e-05, 2.31e-05, 1.78e-06, 0, 0, 0, 0, 0, 0, 0, 0, 0, 0.00244, 1.15e-05], 'Liveness': [0.138, 0.127, 0.0999, 0.189, 0.104, 0.121, 0.121, 0.464, 0.132, 0.0969, 0.106, 0.167, 0.103, 0.112, 0.242, 0.103, 0.103, 0.0685, 0.308, 0.147, 0.102, 0.211, 0.0863, 0.111], 'Acousticness': [0.141, 0.537, 0.854, 0.608, 0.502, 0.709, 0.825, 0.61, 0.15, 0.198, 0.341, 0.038, 0.136, 0.497, 0.102, 0.456, 0.841, 0.533, 0.248, 0.0906, 0.0589, 0.19, 0.192, 0.105]}"
   ]
  },
  {
   "cell_type": "code",
   "execution_count": 33,
   "metadata": {},
   "outputs": [],
   "source": [
    "import pandas as pd\n",
    "import matplotlib.pyplot as pyplot\n",
    "\n",
    "df = pd.DataFrame(data)"
   ]
  },
  {
   "cell_type": "code",
   "execution_count": 62,
   "metadata": {},
   "outputs": [
    {
     "name": "stdout",
     "output_type": "stream",
     "text": [
      "24\n"
     ]
    },
    {
     "data": {
      "image/png": "[encoded data removed]",
      "text/plain": [
       "<Figure size 432x288 with 1 Axes>"
      ]
     },
     "metadata": {
      "needs_background": "light"
     },
     "output_type": "display_data"
    }
   ],
   "source": [
    "totals = [i+j+k+l+m for i,j,k,l,m in zip(df['Danceability'], df['Energy'], df['Instrumentalness'],df['Liveness'],df['Acousticness'])]\n",
    "\n",
    "danceability = [i / j * 100 for i,j in zip(df['Danceability'], totals)]\n",
    "energy = [i / j * 100 for i,j in zip(df['Energy'], totals)]\n",
    "instrumentalness = [i / j * 100 for i,j in zip(df['Instrumentalness'], totals)]\n",
    "liveness = [i / j * 100 for i,j in zip(df['Liveness'], totals)]\n",
    "acousticness = [i / j * 100 for i,j in zip(df['Acousticness'], totals)]\n",
    "\n",
    "barWidth = 0.85\n",
    "print(len(danceability))\n",
    "r = [0,1,2,3,4,5,6,7,8,9,10,11,12,13,14,15,16,17,18,19,20,21,22,23] \n",
    "labels = [x for x in range(1,25)]\n",
    "pyplot.bar(r, tuple(danceability), color='#f9bc86', edgecolor='white', width=barWidth)\n",
    "pyplot.bar(r, tuple(energy), bottom=danceability, color='red', edgecolor='white', width=barWidth)\n",
    "pyplot.bar(r, tuple(instrumentalness), bottom=[i+j for i,j in zip(danceability,energy)], color='#a3acff', edgecolor='white', width=barWidth)\n",
    "pyplot.bar(r, tuple(liveness), bottom=[i+j+k for i,j,k in zip(danceability,energy,instrumentalness)], color='blue', edgecolor='white', width=barWidth)\n",
    "pyplot.bar(r, tuple(acousticness), bottom=[i+j+k+l for i,j,k,l in zip(danceability,energy,instrumentalness,liveness)], color='green', edgecolor='white', width=barWidth)\n",
    "\n",
    "pyplot.xticks(r,labels)\n",
    "pyplot.xlabel(\"previous 20 trackes listned to\")\n",
    "pyplot.show()"
   ]
  },
  {
   "cell_type": "code",
   "execution_count": 27,
   "metadata": {
    "collapsed": true
   },
   "outputs": [
    {
     "data": {
      "text/plain": [
       "(44.85305449301098,\n",
       " 35.06078055022393,\n",
       " 30.379372281157007,\n",
       " 35.369440336933586,\n",
       " 20.664928292046937,\n",
       " 21.758737316798197,\n",
       " 30.930148399363656,\n",
       " 31.013431013431013,\n",
       " 40.02169197396964,\n",
       " 40.89016315106833,\n",
       " 36.60082874733664,\n",
       " 45.753252635332444,\n",
       " 51.58675057597011,\n",
       " 35.46325878594249,\n",
       " 31.29520052596975,\n",
       " 31.13636363636364,\n",
       " 24.65825446898002,\n",
       " 40.19164226776683,\n",
       " 35.28265107212476,\n",
       " 32.47429389561369,\n",
       " 32.98753638331219,\n",
       " 36.656716417910445,\n",
       " 39.99447558322879,\n",
       " 39.99970886287853)"
      ]
     },
     "execution_count": 27,
     "metadata": {},
     "output_type": "execute_result"
    }
   ],
   "source": []
  },
  {
   "cell_type": "code",
   "execution_count": 30,
   "metadata": {},
   "outputs": [
    {
     "data": {
      "image/png": "[encoded data removed]",
      "text/plain": [
       "<Figure size 432x288 with 1 Axes>"
      ]
     },
     "metadata": {
      "needs_background": "light"
     },
     "output_type": "display_data"
    }
   ],
   "source": [
    "# libraries\n",
    "import numpy as np\n",
    "import matplotlib.pyplot as plt\n",
    "from matplotlib import rc\n",
    "import pandas as pd\n",
    " \n",
    "# Data\n",
    "r = [0,1,2,3,4]\n",
    "raw_data = {'greenBars': [20, 1.5, 7, 10, 5], 'orangeBars': [5, 15, 5, 10, 15],'blueBars': [2, 15, 18, 5, 10]}\n",
    "df = pd.DataFrame(raw_data)\n",
    " \n",
    "# From raw value to percentage\n",
    "totals = [i+j+k for i,j,k in zip(df['greenBars'], df['orangeBars'], df['blueBars'])]\n",
    "greenBars = [i / j * 100 for i,j in zip(df['greenBars'], totals)]\n",
    "orangeBars = [i / j * 100 for i,j in zip(df['orangeBars'], totals)]\n",
    "blueBars = [i / j * 100 for i,j in zip(df['blueBars'], totals)]\n",
    " \n",
    "# plot\n",
    "barWidth = 0.85\n",
    "names = ('A','B','C','D','E')\n",
    "# Create green Bars\n",
    "plt.bar(r, greenBars, color='#b5ffb9', edgecolor='white', width=barWidth)\n",
    "# Create orange Bars\n",
    "plt.bar(r, orangeBars, bottom=greenBars, color='#f9bc86', edgecolor='white', width=barWidth)\n",
    "# Create blue Bars\n",
    "plt.bar(r, blueBars, bottom=[i+j for i,j in zip(greenBars, orangeBars)], color='#a3acff', edgecolor='white', width=barWidth)\n",
    " \n",
    "# Custom x axis\n",
    "plt.xticks(r, names)\n",
    "plt.xlabel(\"group\")\n",
    " \n",
    "# Show graphic\n",
    "plt.show()\n"
   ]
  },
  {
   "cell_type": "code",
   "execution_count": null,
   "metadata": {},
   "outputs": [],
   "source": []
  }
 ],
 "metadata": {
  "kernelspec": {
   "display_name": "Python 3",
   "language": "python",
   "name": "python3"
  },
  "language_info": {
   "codemirror_mode": {
    "name": "ipython",
    "version": 3
   },
   "file_extension": ".py",
   "mimetype": "text/x-python",
   "name": "python",
   "nbconvert_exporter": "python",
   "pygments_lexer": "ipython3",
   "version": "3.7.3"
  }
 },
 "nbformat": 4,
 "nbformat_minor": 2
}
